{
 "metadata": {
  "language_info": {
   "codemirror_mode": {
    "name": "ipython",
    "version": 3
   },
   "file_extension": ".py",
   "mimetype": "text/x-python",
   "name": "python",
   "nbconvert_exporter": "python",
   "pygments_lexer": "ipython3",
   "version": "3.8.5-final"
  },
  "orig_nbformat": 2,
  "kernelspec": {
   "name": "python3",
   "display_name": "Python 3.8.5 64-bit",
   "metadata": {
    "interpreter": {
     "hash": "916dbcbb3f70747c44a77c7bcd40155683ae19c65e1c03b4aa3499c5328201f1"
    }
   }
  }
 },
 "nbformat": 4,
 "nbformat_minor": 2,
 "cells": [
  {
   "source": [
    "## Types of Relations"
   ],
   "cell_type": "markdown",
   "metadata": {}
  },
  {
   "source": [
    "### Given"
   ],
   "cell_type": "markdown",
   "metadata": {}
  },
  {
   "cell_type": "code",
   "execution_count": 46,
   "metadata": {},
   "outputs": [],
   "source": [
    "X = {1, 2, 3}\n",
    "R = {(1,1), (1, 2), (2, 3), (1,3), (3,1), (2,1), (2,2)}"
   ]
  },
  {
   "source": [
    "### reflexive"
   ],
   "cell_type": "markdown",
   "metadata": {}
  },
  {
   "cell_type": "code",
   "execution_count": 30,
   "metadata": {},
   "outputs": [
    {
     "output_type": "execute_result",
     "data": {
      "text/plain": [
       "False"
      ]
     },
     "metadata": {},
     "execution_count": 30
    }
   ],
   "source": [
    "def is_reflexive(X, R):\n",
    "    for x in X:\n",
    "        if (x, x) not in R:\n",
    "            return False\n",
    "    return True\n",
    "\n",
    "\n",
    "is_reflexive(X, R)"
   ]
  },
  {
   "source": [
    "### irreflexive"
   ],
   "cell_type": "markdown",
   "metadata": {}
  },
  {
   "cell_type": "code",
   "execution_count": 31,
   "metadata": {},
   "outputs": [
    {
     "output_type": "execute_result",
     "data": {
      "text/plain": [
       "False"
      ]
     },
     "metadata": {},
     "execution_count": 31
    }
   ],
   "source": [
    "def is_irreflexive(X, R):\n",
    "    for x in X:\n",
    "        if (x, x) in R:\n",
    "            return False\n",
    "    return True\n",
    "\n",
    "\n",
    "is_irreflexive(X, R)"
   ]
  },
  {
   "source": [
    "### not reflexive"
   ],
   "cell_type": "markdown",
   "metadata": {}
  },
  {
   "cell_type": "code",
   "execution_count": 32,
   "metadata": {},
   "outputs": [
    {
     "output_type": "execute_result",
     "data": {
      "text/plain": [
       "True"
      ]
     },
     "metadata": {},
     "execution_count": 32
    }
   ],
   "source": [
    "def is_not_reflexive(X, R):\n",
    "    return not is_reflexive(X, R)\n",
    "\n",
    "\n",
    "is_not_reflexive(X, R)"
   ]
  },
  {
   "source": [
    "### symmetric"
   ],
   "cell_type": "markdown",
   "metadata": {}
  },
  {
   "cell_type": "code",
   "execution_count": 33,
   "metadata": {},
   "outputs": [
    {
     "output_type": "execute_result",
     "data": {
      "text/plain": [
       "True"
      ]
     },
     "metadata": {},
     "execution_count": 33
    }
   ],
   "source": [
    "def is_symmetric(X, R):\n",
    "    for (x, y) in R:\n",
    "        if (y, x) not in R:\n",
    "            return False\n",
    "    return True\n",
    "\n",
    "\n",
    "is_symmetric(X, R)"
   ]
  },
  {
   "source": [
    "### anti symmetric"
   ],
   "cell_type": "markdown",
   "metadata": {}
  },
  {
   "cell_type": "code",
   "execution_count": 34,
   "metadata": {},
   "outputs": [
    {
     "output_type": "execute_result",
     "data": {
      "text/plain": [
       "False"
      ]
     },
     "metadata": {},
     "execution_count": 34
    }
   ],
   "source": [
    "def is_anti_symmetric(X, R):\n",
    "    for (x, y) in R:\n",
    "        if x != y and (y, x) in R:\n",
    "            return False\n",
    "    return True\n",
    "\n",
    "\n",
    "is_anti_symmetric(X, R)"
   ]
  },
  {
   "source": [
    "### not symmetric"
   ],
   "cell_type": "markdown",
   "metadata": {}
  },
  {
   "cell_type": "code",
   "execution_count": 35,
   "metadata": {},
   "outputs": [
    {
     "output_type": "execute_result",
     "data": {
      "text/plain": [
       "False"
      ]
     },
     "metadata": {},
     "execution_count": 35
    }
   ],
   "source": [
    "def is_not_symmetric(X, R):\n",
    "    return not is_symmetric(X, R)\n",
    "\n",
    "\n",
    "is_not_symmetric(X, R)"
   ]
  },
  {
   "cell_type": "code",
   "execution_count": 37,
   "metadata": {},
   "outputs": [
    {
     "output_type": "error",
     "ename": "IndentationError",
     "evalue": "expected an indented block (<ipython-input-37-299ced45a222>, line 6)",
     "traceback": [
      "\u001b[0;36m  File \u001b[0;32m\"<ipython-input-37-299ced45a222>\"\u001b[0;36m, line \u001b[0;32m6\u001b[0m\n\u001b[0;31m    is_transitive(X, R)\u001b[0m\n\u001b[0m                       ^\u001b[0m\n\u001b[0;31mIndentationError\u001b[0m\u001b[0;31m:\u001b[0m expected an indented block\n"
     ]
    }
   ],
   "source": [
    "def is_transitive(X, R):\n",
    "    for (x1, y1) in R:\n",
    "        for (x2, y2) in R:\n",
    "            if y1 == x2 and (x1, y2) not in R:\n",
    "                return False\n",
    "    return True\n",
    "\n",
    "\n",
    "is_transitive(X, R)"
   ]
  },
  {
   "cell_type": "code",
   "execution_count": 9,
   "metadata": {},
   "outputs": [],
   "source": [
    "# def is_not_transitive(X, R):"
   ]
  },
  {
   "cell_type": "code",
   "execution_count": 10,
   "metadata": {},
   "outputs": [],
   "source": [
    "# def is_equivalence(X, R):"
   ]
  }
 ]
}